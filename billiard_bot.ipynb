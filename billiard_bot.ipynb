{
 "cells": [
  {
   "cell_type": "code",
   "execution_count": null,
   "metadata": {},
   "outputs": [],
   "source": [
    "group_key = ''"
   ]
  },
  {
   "cell_type": "code",
   "execution_count": null,
   "metadata": {},
   "outputs": [],
   "source": [
    "import vk_api \n",
    "from vk_api.longpoll import VkLongPoll, VkEventType\n",
    "from vk_api.utils import get_random_id\n",
    "from vk_api.keyboard import VkKeyboard, VkKeyboardColor\n",
    "import pandas as pd\n",
    "import numpy as np\n",
    "import logging\n",
    "import pytest"
   ]
  },
  {
   "cell_type": "markdown",
   "metadata": {},
   "source": [
    "## Logging"
   ]
  },
  {
   "cell_type": "code",
   "execution_count": null,
   "metadata": {},
   "outputs": [],
   "source": [
    "logger = logging.getLogger()\n",
    "logger.setLevel(logging.DEBUG)\n",
    "formatter = logging.Formatter('%(asctime)s,%(levelname)s,%(message)s')\n",
    "\n",
    "file_handler = logging.FileHandler('billiard.log')\n",
    "file_handler.setLevel(logging.INFO)\n",
    "file_handler.setFormatter(formatter)\n",
    "\n",
    "debug_file_handler = logging.FileHandler('debug_billiard.log', mode = 'w')\n",
    "debug_file_handler.setLevel(logging.DEBUG)\n",
    "debug_file_handler.setFormatter(formatter)\n",
    "\n",
    "logger.addHandler(file_handler)\n",
    "logger.addHandler(debug_file_handler)"
   ]
  },
  {
   "cell_type": "markdown",
   "metadata": {},
   "source": [
    "## Dictionary"
   ]
  },
  {
   "cell_type": "code",
   "execution_count": null,
   "metadata": {},
   "outputs": [],
   "source": [
    "CONTEXT_CHANGE_INFO = 'Введи данные, которые хочешь изменить в формате: \\n ФИО: Иванов Иван Иванович \\n или \\n Курс: 1'\n",
    "CONTEXT_CHOOSE_ACTION = 'Ты можешь проверить свои знания, выбрав конкретную тему, или посмотреть результаты в разделе \"Статистика\"'\n",
    "CONTEXT_CHOOSE_TOPIC = 'Выбери тему, по которой хочешь пройти тестирование'\n",
    "CONTEXT_GREET_USER = 'Привет! С тобой на связи бильярдный клуб МИСИС. Прежде чем приступить к тестам, давай познакомимся. Введи ниже свое ФИО в формате: \\n ФИО: Иванов Иван Иванович'\n",
    "CONTEXT_ENTER_COURSE = 'Теперь введи номер своего курса в формате: \\n Курс: 1'\n",
    "CONTEXT_LAST_QUESTION = 'На этом все! Ты можешь пройти тесты еще раз или посмотреть статистику'\n",
    "CONTEXT_LETS_START = 'Отлично! Теперь можешь приступать к тестированию'\n",
    "CONTEXT_LINK = 'Для того, чтобы лучше разобраться в теории бильярда, рекомендуем изучить этот источник: '\n",
    "CONTEXT_MENU = 'Выберите раздел:'\n",
    "CONTEXT_OTHER = 'Этот раздел находится на этапе разработки. Мы пришлем вам уведомление, когда здесь появятся новые возможности'\n",
    "CONTEXT_RIGHT = 'Верно!'\n",
    "CONTEXT_SUCCESSFUL = 'Из них правильных ответов:'\n",
    "CONTEXT_TOTAL = 'Всего ответов:'\n",
    "CONTEXT_USER_NAME = 'фио:'\n",
    "CONTEXT_COURSE = 'курс:'\n",
    "CONTEXT_WRONG = 'Неверно. '\n",
    "TITLE_BACK = 'Назад'\n",
    "TITLE_BACK_TO_MENU = 'Назад в меню'\n",
    "TITLE_CHANGE_INFO = 'Редактировать личные данные'\n",
    "TITLE_CHOOSE_TOPIC = 'Выбрать тему'\n",
    "TITLE_FOULS = 'Фолы'\n",
    "TITLE_NEXT = 'Дальше'\n",
    "TITLE_OTHER = 'Другое'\n",
    "TITLE_START = 'Начать'\n",
    "TITLE_STATS = 'Статистика'\n",
    "TITLE_STOP = 'Завершить'\n",
    "TITLE_TERMS = 'Терминология бильярда'\n",
    "TITLE_TESTS = 'Тесты'"
   ]
  },
  {
   "cell_type": "markdown",
   "metadata": {},
   "source": [
    "## Keyboards"
   ]
  },
  {
   "cell_type": "code",
   "execution_count": null,
   "metadata": {},
   "outputs": [],
   "source": [
    "menu = VkKeyboard()\n",
    "menu.add_button(TITLE_TESTS, color=VkKeyboardColor.PRIMARY)\n",
    "menu.add_line()\n",
    "menu.add_button(TITLE_CHANGE_INFO, color=VkKeyboardColor.PRIMARY)\n",
    "menu.add_line()\n",
    "menu.add_button(TITLE_OTHER, color=VkKeyboardColor.SECONDARY)"
   ]
  },
  {
   "cell_type": "code",
   "execution_count": null,
   "metadata": {},
   "outputs": [],
   "source": [
    "test_keyboard = VkKeyboard()\n",
    "test_keyboard.add_button(TITLE_CHOOSE_TOPIC, color=VkKeyboardColor.PRIMARY)\n",
    "test_keyboard.add_line()\n",
    "test_keyboard.add_button(TITLE_STATS, color=VkKeyboardColor.PRIMARY)\n",
    "test_keyboard.add_line()\n",
    "test_keyboard.add_button(TITLE_BACK_TO_MENU, color=VkKeyboardColor.SECONDARY)"
   ]
  },
  {
   "cell_type": "code",
   "execution_count": null,
   "metadata": {},
   "outputs": [],
   "source": [
    "theme_keyboard = VkKeyboard()\n",
    "theme_keyboard.add_button(TITLE_TERMS, color=VkKeyboardColor.PRIMARY)\n",
    "theme_keyboard.add_line()\n",
    "theme_keyboard.add_button(TITLE_FOULS, color=VkKeyboardColor.PRIMARY)\n",
    "theme_keyboard.add_line()\n",
    "theme_keyboard.add_button(TITLE_BACK, color=VkKeyboardColor.SECONDARY)"
   ]
  },
  {
   "cell_type": "code",
   "execution_count": null,
   "metadata": {},
   "outputs": [],
   "source": [
    "answer_keyboard_4 = VkKeyboard()\n",
    "answer_keyboard_4.add_button(1, color=VkKeyboardColor.SECONDARY)\n",
    "answer_keyboard_4.add_button(2, color=VkKeyboardColor.SECONDARY)\n",
    "answer_keyboard_4.add_button(3, color=VkKeyboardColor.SECONDARY)\n",
    "answer_keyboard_4.add_button(4, color=VkKeyboardColor.SECONDARY)"
   ]
  },
  {
   "cell_type": "code",
   "execution_count": null,
   "metadata": {},
   "outputs": [],
   "source": [
    "answer_keyboard_2 = VkKeyboard()\n",
    "answer_keyboard_2.add_button(1, color=VkKeyboardColor.SECONDARY)\n",
    "answer_keyboard_2.add_button(2, color=VkKeyboardColor.SECONDARY)"
   ]
  },
  {
   "cell_type": "code",
   "execution_count": null,
   "metadata": {},
   "outputs": [],
   "source": [
    "action_choose = VkKeyboard(one_time=True)\n",
    "action_choose.add_button(TITLE_NEXT, color=VkKeyboardColor.SECONDARY)\n",
    "action_choose.add_button(TITLE_STOP, color=VkKeyboardColor.SECONDARY)"
   ]
  },
  {
   "cell_type": "markdown",
   "metadata": {},
   "source": [
    "## Globals"
   ]
  },
  {
   "cell_type": "code",
   "execution_count": null,
   "metadata": {},
   "outputs": [],
   "source": [
    "is_testing = False\n",
    "right_answer = ''\n",
    "indx = 0\n",
    "current_test = pd.DataFrame()\n",
    "answer_keyboard = VkKeyboard()"
   ]
  },
  {
   "cell_type": "code",
   "execution_count": null,
   "metadata": {},
   "outputs": [],
   "source": [
    "df = pd.read_excel('results.xlsx')\n",
    "tests_term = pd.read_excel('billiard_tests_term.xlsx')\n",
    "test_fouls = pd.read_excel('tests_fouls.xlsx')"
   ]
  },
  {
   "cell_type": "code",
   "execution_count": null,
   "metadata": {},
   "outputs": [],
   "source": [
    "link = 'http://www.fbsrf.ru/sites/default/files/02-pravila_igry_v_pul-02-02_.pdf'"
   ]
  },
  {
   "cell_type": "markdown",
   "metadata": {},
   "source": [
    "## Functions"
   ]
  },
  {
   "cell_type": "markdown",
   "metadata": {},
   "source": [
    "### Utils"
   ]
  },
  {
   "cell_type": "code",
   "execution_count": null,
   "metadata": {},
   "outputs": [],
   "source": [
    "def get_user_name(text):\n",
    "    return text[4:].strip()"
   ]
  },
  {
   "cell_type": "code",
   "execution_count": null,
   "metadata": {},
   "outputs": [],
   "source": [
    "def get_course(text):\n",
    "    return text[5:].strip()"
   ]
  },
  {
   "cell_type": "code",
   "execution_count": null,
   "metadata": {},
   "outputs": [],
   "source": [
    "def is_user_answer(text):\n",
    "    if text == '1' or text == '2' or text == '3' or text == '4':\n",
    "        return True\n",
    "    return False"
   ]
  },
  {
   "cell_type": "markdown",
   "metadata": {},
   "source": [
    "### Common"
   ]
  },
  {
   "cell_type": "code",
   "execution_count": null,
   "metadata": {},
   "outputs": [],
   "source": [
    "def greeting(user_id, vk):\n",
    "    vk.messages.send(user_id=user_id,\n",
    "                     random_id = get_random_id(),\n",
    "                     message = CONTEXT_GREET_USER)\n",
    "    return CONTEXT_GREET_USER"
   ]
  },
  {
   "cell_type": "code",
   "execution_count": null,
   "metadata": {},
   "outputs": [],
   "source": [
    "def enter_course(user_id, vk):\n",
    "    vk.messages.send(user_id=user_id,\n",
    "                     random_id = get_random_id(),\n",
    "                     message = CONTEXT_ENTER_COURSE)"
   ]
  },
  {
   "cell_type": "code",
   "execution_count": null,
   "metadata": {},
   "outputs": [],
   "source": [
    "def add_new_user(user_id, text):\n",
    "    df.loc[len(df.index)] = [user_id,  get_user_name(text), 0, 0, False]"
   ]
  },
  {
   "cell_type": "code",
   "execution_count": null,
   "metadata": {},
   "outputs": [],
   "source": [
    "def first_start(user_id, vk):\n",
    "    vk.messages.send(user_id=user_id,\n",
    "                    random_id = get_random_id(),\n",
    "                    message = CONTEXT_LETS_START,\n",
    "                    keyboard = menu.get_keyboard())"
   ]
  },
  {
   "cell_type": "code",
   "execution_count": null,
   "metadata": {},
   "outputs": [],
   "source": [
    "def open_menu(user_id, vk):\n",
    "    vk.messages.send(user_id=user_id,\n",
    "                    random_id = get_random_id(),\n",
    "                    message=CONTEXT_MENU,\n",
    "                    keyboard = menu.get_keyboard())\n",
    "    return CONTEXT_MENU"
   ]
  },
  {
   "cell_type": "code",
   "execution_count": null,
   "metadata": {},
   "outputs": [],
   "source": [
    "def start(user_id, vk):\n",
    "    if user_id in df['id'].values:\n",
    "        return open_menu(user_id=user_id, vk=vk)\n",
    "    else:\n",
    "        return greeting(user_id=user_id, vk=vk)"
   ]
  },
  {
   "cell_type": "code",
   "execution_count": null,
   "metadata": {},
   "outputs": [],
   "source": [
    "def send_test_menu(user_id, vk):\n",
    "    vk.messages.send(user_id=user_id,\n",
    "                    random_id = get_random_id(),\n",
    "                    message = CONTEXT_CHOOSE_ACTION,\n",
    "                    keyboard = test_keyboard.get_keyboard())\n",
    "    return CONTEXT_CHOOSE_ACTION"
   ]
  },
  {
   "cell_type": "code",
   "execution_count": null,
   "metadata": {},
   "outputs": [],
   "source": [
    "def choose_topic(user_id, vk):\n",
    "    vk.messages.send(user_id=user_id,\n",
    "                    random_id = get_random_id(),\n",
    "                    message = CONTEXT_CHOOSE_TOPIC,\n",
    "                    keyboard = theme_keyboard.get_keyboard())\n",
    "    return CONTEXT_CHOOSE_TOPIC"
   ]
  },
  {
   "cell_type": "code",
   "execution_count": null,
   "metadata": {},
   "outputs": [],
   "source": [
    "def change_info(user_id, vk):\n",
    "    vk.messages.send(user_id=user_id,\n",
    "                    random_id = get_random_id(),\n",
    "                    message = CONTEXT_CHANGE_INFO)\n",
    "    return CONTEXT_CHANGE_INFO"
   ]
  },
  {
   "cell_type": "code",
   "execution_count": null,
   "metadata": {},
   "outputs": [],
   "source": [
    "def other(user_id, vk):\n",
    "    vk.messages.send(user_id=user_id,\n",
    "                    random_id = get_random_id(),\n",
    "                    message = CONTEXT_OTHER)\n",
    "    return CONTEXT_OTHER"
   ]
  },
  {
   "cell_type": "markdown",
   "metadata": {},
   "source": [
    "### Test"
   ]
  },
  {
   "cell_type": "code",
   "execution_count": null,
   "metadata": {},
   "outputs": [],
   "source": [
    "def generate_question(vk, user_id):\n",
    "    global right_answer\n",
    "    question = current_test['Вопрос'].loc[indx]\n",
    "    right_answer = str(current_test['Верный ответ'].loc[indx])\n",
    "    video_id = ''\n",
    "    if ('video_id' in current_test.columns): \n",
    "        video_id = str(current_test['video_id'].loc[indx])\n",
    "    vk.messages.send(user_id = user_id,\n",
    "                     random_id = get_random_id(),\n",
    "                     message = question,\n",
    "                     keyboard = answer_keyboard.get_keyboard(),\n",
    "                     attachment = f'video-216098865_{video_id}')\n",
    "    return question\n",
    "    \n",
    "    "
   ]
  },
  {
   "cell_type": "code",
   "execution_count": null,
   "metadata": {},
   "outputs": [],
   "source": [
    "def test_step(user_id, vk):\n",
    "        global is_testing, indx\n",
    "        is_testing = True\n",
    "        generate_question(vk=vk, user_id=user_id)\n",
    "        indx = indx + 1"
   ]
  },
  {
   "cell_type": "code",
   "execution_count": null,
   "metadata": {},
   "outputs": [],
   "source": [
    "def is_last_question(vk, user_id):\n",
    "        global indx\n",
    "        indx = 0\n",
    "        df.to_excel('results.xlsx', index=False)\n",
    "        vk.messages.send(user_id = user_id,\n",
    "                        random_id = get_random_id(),\n",
    "                        message = CONTEXT_LAST_QUESTION,\n",
    "                        keyboard = test_keyboard.get_keyboard())"
   ]
  },
  {
   "cell_type": "code",
   "execution_count": null,
   "metadata": {},
   "outputs": [],
   "source": [
    "def answer_is_right(vk, user_id):\n",
    "    df.loc[df['id'] == user_id, 'right_tries'] += 1\n",
    "    df.loc[df['id'] == user_id, 'total'] += 1\n",
    "    vk.messages.send(user_id = user_id,\n",
    "                     random_id = get_random_id(),\n",
    "                     message = CONTEXT_RIGHT,\n",
    "                     keyboard = action_choose.get_keyboard())\n",
    "    if indx >= len(current_test):\n",
    "        logger.info(f'end is reached,test,{user_id}')\n",
    "        is_last_question(vk, user_id)"
   ]
  },
  {
   "cell_type": "code",
   "execution_count": null,
   "metadata": {},
   "outputs": [],
   "source": [
    "def answer_is_wrong(vk, user_id):\n",
    "    df.loc[df['id'] == user_id, 'total'] += 1\n",
    "    comment = str(current_test['Объяснение'].loc[indx - 1]) + '\\n' + CONTEXT_LINK + link\n",
    "    vk.messages.send(user_id = user_id,\n",
    "                     random_id = get_random_id(),\n",
    "                     message = CONTEXT_WRONG + comment,\n",
    "                     keyboard = action_choose.get_keyboard())\n",
    "    if indx >= len(current_test):\n",
    "        logger.info(f'end is reached,test,{user_id}')\n",
    "        is_last_question(vk, user_id)"
   ]
  },
  {
   "cell_type": "markdown",
   "metadata": {},
   "source": [
    "### Statistic"
   ]
  },
  {
   "cell_type": "code",
   "execution_count": null,
   "metadata": {},
   "outputs": [],
   "source": [
    "def send_stats(vk, user_id):\n",
    "    total = df['total'].loc[df['id'] == user_id].values[0]\n",
    "    success = df['right_tries'].loc[df['id'] == user_id].values[0]\n",
    "    message = f'{CONTEXT_TOTAL} {total} \\n {CONTEXT_SUCCESSFUL} {success}'\n",
    "    vk.messages.send(user_id = user_id,\n",
    "                     random_id = get_random_id(),\n",
    "                     message = message,\n",
    "                     keyboard = menu.get_keyboard())"
   ]
  },
  {
   "cell_type": "markdown",
   "metadata": {},
   "source": [
    "## Main"
   ]
  },
  {
   "cell_type": "code",
   "execution_count": null,
   "metadata": {},
   "outputs": [],
   "source": [
    "vk_session = vk_api.VkApi(token = group_key)\n",
    "longpoll = VkLongPoll(vk_session)\n",
    "vk = vk_session.get_api()"
   ]
  },
  {
   "cell_type": "code",
   "execution_count": null,
   "metadata": {},
   "outputs": [],
   "source": [
    "\n",
    "for event in longpoll.listen():\n",
    "    if event.type == VkEventType.MESSAGE_NEW and event.to_me:\n",
    "        #chat start\n",
    "        if event.text == TITLE_START:\n",
    "            logger.info(f'button start,start,{event.user_id}')\n",
    "            start(user_id=event.user_id, vk=vk)\n",
    "        #user name\n",
    "        if event.text.lower().startswith(CONTEXT_USER_NAME):\n",
    "            if event.user_id in df['id'].values:\n",
    "                df['name'].loc[df['id'] == event.user_id] = get_user_name(event.text)\n",
    "                logger.info(f'user changed name,contact info,{event.user_id}')\n",
    "                first_start(user_id=event.user_id, vk=vk)\n",
    "            else:\n",
    "                add_new_user(user_id=event.user_id, text=event.text)\n",
    "                logger.info(f'new user,contact info,{event.user_id}')\n",
    "                enter_course(user_id=event.user_id, vk=vk)\n",
    "        #course info\n",
    "        if event.text.lower().startswith(CONTEXT_COURSE):\n",
    "            try:\n",
    "                if 1 <= int(get_course(event.text)) < 3:\n",
    "                    df['PE'].loc[df['id'] == event.user_id] = True\n",
    "                logger.info(f'PE flag,contact info,{event.user_id}')\n",
    "                first_start(user_id=event.user_id, vk=vk)\n",
    "            except:\n",
    "                logger.error(f'incorrect course number,contact info,{event.user_id}')\n",
    "        #change info\n",
    "        if event.text == TITLE_CHANGE_INFO:\n",
    "            change_info(user_id=event.user_id, vk=vk)\n",
    "        #menu: TEST\n",
    "        if event.text == TITLE_TESTS or event.text == TITLE_BACK:\n",
    "            send_test_menu(user_id=event.user_id, vk=vk)\n",
    "            logger.info(f'test,menu,{event.user_id}')\n",
    "        #menu: OTHER\n",
    "        if event.text == TITLE_OTHER:\n",
    "            other(user_id=event.user_id, vk=vk)\n",
    "            logger.info(f'other,menu,{event.user_id}')\n",
    "        #choose topic\n",
    "        if event.text == TITLE_CHOOSE_TOPIC:\n",
    "            choose_topic(user_id=event.user_id, vk=vk)  \n",
    "            logger.info(f'choose topic,menu,{event.user_id}')\n",
    "        #test: TERMS\n",
    "        if event.text == TITLE_TERMS:\n",
    "            logger.info(f'topic terms,test,{event.user_id}')\n",
    "            current_test = tests_term.sample(frac=1).reset_index(drop=True)\n",
    "            answer_keyboard = answer_keyboard_4\n",
    "            test_step(user_id=event.user_id, vk=vk)\n",
    "        #test: FOULS\n",
    "        if event.text == TITLE_FOULS:\n",
    "            logger.info(f'topic fouls,test,{event.user_id}')\n",
    "            current_test = test_fouls.sample(frac=1).reset_index(drop=True)\n",
    "            answer_keyboard = answer_keyboard_2\n",
    "            test_step(user_id=event.user_id, vk=vk)\n",
    "        #check answer\n",
    "        if is_testing:\n",
    "            if is_user_answer(event.text): \n",
    "                if right_answer == event.text:\n",
    "                    answer_is_right(vk=vk, user_id=event.user_id)\n",
    "                    is_testing = False\n",
    "                else:\n",
    "                    answer_is_wrong(vk=vk, user_id=event.user_id)\n",
    "                    is_testing = False\n",
    "            elif event.text != TITLE_FOULS and event.text != TITLE_TERMS:\n",
    "                logger.warning(f'incorrect answer,test,{event.user_id}')\n",
    "        #next question\n",
    "        if event.text == TITLE_NEXT:\n",
    "            test_step(user_id=event.user_id, vk=vk)\n",
    "        #stop questions\n",
    "        if event.text == TITLE_STOP:\n",
    "            logger.info(f'session interrupted,test,{event.user_id}')\n",
    "            is_last_question(vk=vk, user_id=event.user_id)\n",
    "        #get statistics\n",
    "        if event.text == TITLE_STATS:\n",
    "            logger.info(f'statistics,statistics,{event.user_id}')\n",
    "            send_stats(vk=vk, user_id=event.user_id)\n",
    "        #go back to menu\n",
    "        if event.text == TITLE_BACK_TO_MENU:\n",
    "            logger.info(f'back to main,menu,{event.user_id}')\n",
    "            open_menu(user_id=event.user_id, vk=vk)\n",
    "            \n",
    "            "
   ]
  }
 ],
 "metadata": {
  "kernelspec": {
   "display_name": "Python 3",
   "language": "python",
   "name": "python3"
  },
  "language_info": {
   "codemirror_mode": {
    "name": "ipython",
    "version": 3
   },
   "file_extension": ".py",
   "mimetype": "text/x-python",
   "name": "python",
   "nbconvert_exporter": "python",
   "pygments_lexer": "ipython3",
   "version": "3.10.11"
  },
  "orig_nbformat": 4
 },
 "nbformat": 4,
 "nbformat_minor": 2
}
