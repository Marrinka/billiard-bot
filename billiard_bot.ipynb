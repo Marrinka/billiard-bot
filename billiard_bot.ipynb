{
 "cells": [
  {
   "cell_type": "code",
   "execution_count": 1,
   "metadata": {},
   "outputs": [],
   "source": [
    "group_key = ''"
   ]
  },
  {
   "cell_type": "code",
   "execution_count": 2,
   "metadata": {},
   "outputs": [],
   "source": [
    "import vk_api \n",
    "from vk_api.longpoll import VkLongPoll, VkEventType\n",
    "from vk_api.utils import get_random_id\n",
    "from vk_api.keyboard import VkKeyboard, VkKeyboardColor\n",
    "import pandas as pd\n",
    "import numpy as np\n",
    "import logging"
   ]
  },
  {
   "cell_type": "markdown",
   "metadata": {},
   "source": [
    "## Logging"
   ]
  },
  {
   "cell_type": "code",
   "execution_count": 3,
   "metadata": {},
   "outputs": [],
   "source": [
    "logger = logging.getLogger()\n",
    "logger.setLevel(logging.DEBUG)\n",
    "formatter = logging.Formatter('%(asctime)s,%(levelname)s,%(message)s')\n",
    "\n",
    "file_handler = logging.FileHandler('billiard.log')\n",
    "file_handler.setLevel(logging.INFO)\n",
    "file_handler.setFormatter(formatter)\n",
    "\n",
    "debug_file_handler = logging.FileHandler('debug_billiard.log', mode = 'w')\n",
    "debug_file_handler.setLevel(logging.DEBUG)\n",
    "debug_file_handler.setFormatter(formatter)\n",
    "\n",
    "logger.addHandler(file_handler)\n",
    "logger.addHandler(debug_file_handler)"
   ]
  },
  {
   "cell_type": "markdown",
   "metadata": {},
   "source": [
    "## Dictionary"
   ]
  },
  {
   "cell_type": "code",
   "execution_count": 4,
   "metadata": {},
   "outputs": [],
   "source": [
    "CONTEXT_CHANGE_INFO = 'Введи данные, которые хочешь изменить в формате: \\n ФИО: Иванов Иван Иванович \\n или \\n Курс: 1'\n",
    "CONTEXT_CHOOSE_ACTION = 'Ты можешь проверить свои знания, выбрав конкретную тему, или посмотреть результаты в разделе \"Статистика\"'\n",
    "CONTEXT_CHOOSE_TOPIC = 'Выбери тему, по которой хочешь пройти тестирование'\n",
    "CONTEXT_GREET_USER = 'Привет! С тобой на связи бильярдный клуб МИСИС. Прежде чем приступить к тестам, давай познакомимся. Введи ниже свое ФИО в формате: \\n ФИО: Иванов Иван Иванович'\n",
    "CONTEXT_ENTER_COURSE = 'Теперь введи номер своего курса в формате: \\n Курс: 1'\n",
    "CONTEXT_LAST_QUESTION = 'На этом все! Ты можешь пройти тесты еще раз или посмотреть статистику'\n",
    "CONTEXT_LETS_START = 'Отлично! Теперь можешь приступать к тестированию'\n",
    "CONTEXT_MENU = 'Выберите раздел:'\n",
    "CONTEXT_OTHER = 'Этот раздел находится на этапе разработки. Мы пришлем вам уведомление, когда здесь появятся новые возможности'\n",
    "CONTEXT_RIGHT = 'Верно!'\n",
    "CONTEXT_SUCCESSFUL = 'Из них правильных ответов:'\n",
    "CONTEXT_TOTAL = 'Всего ответов:'\n",
    "CONTEXT_USER_NAME = 'фио:'\n",
    "CONTEXT_COURSE = 'курс:'\n",
    "CONTEXT_WRONG = 'Неверно. '\n",
    "TITLE_BACK_TO_MENU = 'Назад в меню'\n",
    "TITLE_CHANGE_INFO = 'Редактировать личные данные'\n",
    "TITLE_CHOOSE_TOPIC = 'Выбрать тему'\n",
    "TITLE_FOULS = 'Фолы'\n",
    "TITLE_NEXT = 'Дальше'\n",
    "TITLE_OTHER = 'Другое'\n",
    "TITLE_START = 'Начать'\n",
    "TITLE_STATS = 'Статистика'\n",
    "TITLE_STOP = 'Завершить'\n",
    "TITLE_TERMS = 'Терминология бильярда'\n",
    "TITLE_TESTS = 'Тесты'"
   ]
  },
  {
   "cell_type": "markdown",
   "metadata": {},
   "source": [
    "## Keyboards"
   ]
  },
  {
   "cell_type": "code",
   "execution_count": 5,
   "metadata": {},
   "outputs": [],
   "source": [
    "menu = VkKeyboard()\n",
    "menu.add_button(TITLE_TESTS, color=VkKeyboardColor.PRIMARY)\n",
    "menu.add_button(TITLE_CHANGE_INFO, color=VkKeyboardColor.PRIMARY)\n",
    "menu.add_button(TITLE_OTHER, color=VkKeyboardColor.SECONDARY)"
   ]
  },
  {
   "cell_type": "code",
   "execution_count": 6,
   "metadata": {},
   "outputs": [],
   "source": [
    "test_keyboard = VkKeyboard()\n",
    "test_keyboard.add_button(TITLE_CHOOSE_TOPIC, color=VkKeyboardColor.PRIMARY)\n",
    "test_keyboard.add_button(TITLE_STATS, color=VkKeyboardColor.PRIMARY)\n",
    "test_keyboard.add_button(TITLE_BACK_TO_MENU, color=VkKeyboardColor.SECONDARY)"
   ]
  },
  {
   "cell_type": "code",
   "execution_count": 7,
   "metadata": {},
   "outputs": [],
   "source": [
    "theme_keyboard = VkKeyboard()\n",
    "theme_keyboard.add_button(TITLE_TERMS, color=VkKeyboardColor.PRIMARY)\n",
    "theme_keyboard.add_button(TITLE_FOULS, color=VkKeyboardColor.PRIMARY)\n",
    "theme_keyboard.add_button(TITLE_BACK_TO_MENU, color=VkKeyboardColor.SECONDARY)"
   ]
  },
  {
   "cell_type": "code",
   "execution_count": 8,
   "metadata": {},
   "outputs": [],
   "source": [
    "answer_keyboard_4 = VkKeyboard()\n",
    "answer_keyboard_4.add_button(1, color=VkKeyboardColor.SECONDARY)\n",
    "answer_keyboard_4.add_button(2, color=VkKeyboardColor.SECONDARY)\n",
    "answer_keyboard_4.add_button(3, color=VkKeyboardColor.SECONDARY)\n",
    "answer_keyboard_4.add_button(4, color=VkKeyboardColor.SECONDARY)"
   ]
  },
  {
   "cell_type": "code",
   "execution_count": 9,
   "metadata": {},
   "outputs": [],
   "source": [
    "answer_keyboard_2 = VkKeyboard()\n",
    "answer_keyboard_2.add_button(1, color=VkKeyboardColor.SECONDARY)\n",
    "answer_keyboard_2.add_button(2, color=VkKeyboardColor.SECONDARY)"
   ]
  },
  {
   "cell_type": "code",
   "execution_count": 10,
   "metadata": {},
   "outputs": [],
   "source": [
    "action_choose = VkKeyboard(one_time=True)\n",
    "action_choose.add_button(TITLE_NEXT, color=VkKeyboardColor.SECONDARY)\n",
    "action_choose.add_button(TITLE_STOP, color=VkKeyboardColor.SECONDARY)"
   ]
  },
  {
   "cell_type": "markdown",
   "metadata": {},
   "source": [
    "## Globals"
   ]
  },
  {
   "cell_type": "code",
   "execution_count": 11,
   "metadata": {},
   "outputs": [],
   "source": [
    "is_testing = False\n",
    "right_answer = ''\n",
    "indx = 0\n",
    "current_test = pd.DataFrame()\n",
    "answer_keyboard = VkKeyboard()"
   ]
  },
  {
   "cell_type": "code",
   "execution_count": 12,
   "metadata": {},
   "outputs": [],
   "source": [
    "df = pd.read_excel('results.xlsx')\n",
    "tests_term = pd.read_excel('billiard_tests_term.xlsx')\n",
    "test_fouls = pd.read_excel('tests_fouls.xlsx')"
   ]
  },
  {
   "cell_type": "markdown",
   "metadata": {},
   "source": [
    "## Functions"
   ]
  },
  {
   "cell_type": "markdown",
   "metadata": {},
   "source": [
    "### Utils"
   ]
  },
  {
   "cell_type": "code",
   "execution_count": 13,
   "metadata": {},
   "outputs": [],
   "source": [
    "def get_user_name(text):\n",
    "    return text[4:].strip()"
   ]
  },
  {
   "cell_type": "code",
   "execution_count": 14,
   "metadata": {},
   "outputs": [],
   "source": [
    "def get_course(text):\n",
    "    return text[5:].strip()"
   ]
  },
  {
   "cell_type": "code",
   "execution_count": 15,
   "metadata": {},
   "outputs": [],
   "source": [
    "def is_user_answer(text):\n",
    "    if text == '1' or text == '2' or text == '3' or text == '4':\n",
    "        return True\n",
    "    return False"
   ]
  },
  {
   "cell_type": "markdown",
   "metadata": {},
   "source": [
    "### Common"
   ]
  },
  {
   "cell_type": "code",
   "execution_count": 16,
   "metadata": {},
   "outputs": [],
   "source": [
    "def greeting(event, vk):\n",
    "    vk.messages.send(user_id = event.user_id,\n",
    "                     random_id = get_random_id(),\n",
    "                     message = CONTEXT_GREET_USER)"
   ]
  },
  {
   "cell_type": "code",
   "execution_count": 17,
   "metadata": {},
   "outputs": [],
   "source": [
    "def enter_course(event, vk):\n",
    "    vk.messages.send(user_id = event.user_id,\n",
    "                     random_id = get_random_id(),\n",
    "                     message = CONTEXT_ENTER_COURSE)"
   ]
  },
  {
   "cell_type": "code",
   "execution_count": 18,
   "metadata": {},
   "outputs": [],
   "source": [
    "def first_start(event, vk):\n",
    "    vk.messages.send(user_id = event.user_id,\n",
    "                    random_id = get_random_id(),\n",
    "                    message = CONTEXT_LETS_START,\n",
    "                    keyboard = menu.get_keyboard())"
   ]
  },
  {
   "cell_type": "code",
   "execution_count": 19,
   "metadata": {},
   "outputs": [],
   "source": [
    "def start(event, vk):\n",
    "    vk.messages.send(user_id = event.user_id,\n",
    "                    random_id = get_random_id(),\n",
    "                    message=CONTEXT_MENU,\n",
    "                    keyboard = menu.get_keyboard())"
   ]
  },
  {
   "cell_type": "code",
   "execution_count": 20,
   "metadata": {},
   "outputs": [],
   "source": [
    "def send_test_menu(event, vk):\n",
    "    vk.messages.send(user_id = event.user_id,\n",
    "                    random_id = get_random_id(),\n",
    "                    message = CONTEXT_CHOOSE_ACTION,\n",
    "                    keyboard = test_keyboard.get_keyboard())"
   ]
  },
  {
   "cell_type": "code",
   "execution_count": 21,
   "metadata": {},
   "outputs": [],
   "source": [
    "def choose_topic(event, vk):\n",
    "    vk.messages.send(user_id = event.user_id,\n",
    "                    random_id = get_random_id(),\n",
    "                    message = CONTEXT_CHOOSE_TOPIC,\n",
    "                    keyboard = theme_keyboard.get_keyboard())"
   ]
  },
  {
   "cell_type": "code",
   "execution_count": 22,
   "metadata": {},
   "outputs": [],
   "source": [
    "def change_info(event, vk):\n",
    "    vk.messages.send(user_id = event.user_id,\n",
    "                    random_id = get_random_id(),\n",
    "                    message = CONTEXT_CHANGE_INFO)"
   ]
  },
  {
   "cell_type": "code",
   "execution_count": 23,
   "metadata": {},
   "outputs": [],
   "source": [
    "def other(event, vk):\n",
    "    vk.messages.send(user_id = event.user_id,\n",
    "                    random_id = get_random_id(),\n",
    "                    message = CONTEXT_OTHER)"
   ]
  },
  {
   "cell_type": "markdown",
   "metadata": {},
   "source": [
    "### Test"
   ]
  },
  {
   "cell_type": "code",
   "execution_count": 24,
   "metadata": {},
   "outputs": [],
   "source": [
    "def generate_question(vk, event):\n",
    "    global right_answer\n",
    "    question = current_test['Вопрос'].loc[indx]\n",
    "    right_answer = str(current_test['Верный ответ'].loc[indx])\n",
    "    video_id = ''\n",
    "    if ('video_id' in current_test.columns): \n",
    "        video_id = str(current_test['video_id'].loc[indx])\n",
    "    vk.messages.send(user_id = event.user_id,\n",
    "                     random_id = get_random_id(),\n",
    "                     message = question,\n",
    "                     keyboard = answer_keyboard.get_keyboard(),\n",
    "                     attachment = f'video-216098865_{video_id}')\n",
    "    "
   ]
  },
  {
   "cell_type": "code",
   "execution_count": 25,
   "metadata": {},
   "outputs": [],
   "source": [
    "def test_step(event, vk):\n",
    "        global is_testing, indx\n",
    "        is_testing = True\n",
    "        generate_question(vk, event)\n",
    "        indx = indx + 1"
   ]
  },
  {
   "cell_type": "code",
   "execution_count": 26,
   "metadata": {},
   "outputs": [],
   "source": [
    "def is_last_question(vk, event):\n",
    "        global indx\n",
    "        indx = 0\n",
    "        df.to_excel('results.xlsx', index=False)\n",
    "        vk.messages.send(user_id = event.user_id,\n",
    "                        random_id = get_random_id(),\n",
    "                        message = CONTEXT_LAST_QUESTION,\n",
    "                        keyboard = test_keyboard.get_keyboard())"
   ]
  },
  {
   "cell_type": "code",
   "execution_count": 27,
   "metadata": {},
   "outputs": [],
   "source": [
    "def answer_is_right(vk, event):\n",
    "    df['right_tries'].loc[df['id'] == event.user_id] += 1\n",
    "    df['total'].loc[df['id'] == event.user_id] += 1\n",
    "    vk.messages.send(user_id = event.user_id,\n",
    "                     random_id = get_random_id(),\n",
    "                     message = CONTEXT_RIGHT,\n",
    "                     keyboard = action_choose.get_keyboard())\n",
    "    if indx >= len(current_test):\n",
    "        logger.info(f'end is reached,test,{event.user_id}')\n",
    "        is_last_question(vk, event)"
   ]
  },
  {
   "cell_type": "code",
   "execution_count": 28,
   "metadata": {},
   "outputs": [],
   "source": [
    "def answer_is_wrong(vk, event):\n",
    "    df['total'].loc[df['id'] == event.user_id] += 1\n",
    "    comment = str(current_test['Объяснение'].loc[indx - 1])\n",
    "    vk.messages.send(user_id = event.user_id,\n",
    "                     random_id = get_random_id(),\n",
    "                     message = CONTEXT_WRONG + comment,\n",
    "                     keyboard = action_choose.get_keyboard())\n",
    "    if indx >= len(current_test):\n",
    "        logger.info(f'end is reached,test,{event.user_id}')\n",
    "        is_last_question(vk, event)"
   ]
  },
  {
   "cell_type": "markdown",
   "metadata": {},
   "source": [
    "### Statistic"
   ]
  },
  {
   "cell_type": "code",
   "execution_count": 29,
   "metadata": {},
   "outputs": [],
   "source": [
    "def send_stats(vk, event):\n",
    "    total = df['total'].loc[df['id'] == event.user_id].values[0]\n",
    "    success = df['right_tries'].loc[df['id'] == event.user_id].values[0]\n",
    "    message = f'{CONTEXT_TOTAL} {total} \\n {CONTEXT_SUCCESSFUL} {success}'\n",
    "    vk.messages.send(user_id = event.user_id,\n",
    "                     random_id = get_random_id(),\n",
    "                     message = message,\n",
    "                     keyboard = menu.get_keyboard())"
   ]
  },
  {
   "cell_type": "markdown",
   "metadata": {},
   "source": [
    "## Main"
   ]
  },
  {
   "cell_type": "code",
   "execution_count": 30,
   "metadata": {},
   "outputs": [],
   "source": [
    "vk_session = vk_api.VkApi(token = group_key)\n",
    "longpoll = VkLongPoll(vk_session)\n",
    "vk = vk_session.get_api()"
   ]
  },
  {
   "cell_type": "code",
   "execution_count": 31,
   "metadata": {},
   "outputs": [
    {
     "name": "stderr",
     "output_type": "stream",
     "text": [
      "C:\\Users\\bychk\\AppData\\Local\\Temp\\ipykernel_1792\\2393728587.py:24: SettingWithCopyWarning: \n",
      "A value is trying to be set on a copy of a slice from a DataFrame\n",
      "\n",
      "See the caveats in the documentation: https://pandas.pydata.org/pandas-docs/stable/user_guide/indexing.html#returning-a-view-versus-a-copy\n",
      "  df['PE'].loc[df['id'] == event.user_id] = True\n",
      "C:\\Users\\bychk\\AppData\\Local\\Temp\\ipykernel_1792\\2393728587.py:13: SettingWithCopyWarning: \n",
      "A value is trying to be set on a copy of a slice from a DataFrame\n",
      "\n",
      "See the caveats in the documentation: https://pandas.pydata.org/pandas-docs/stable/user_guide/indexing.html#returning-a-view-versus-a-copy\n",
      "  df['name'].loc[df['id'] == event.user_id] = get_user_name(event.text)\n",
      "C:\\Users\\bychk\\AppData\\Local\\Temp\\ipykernel_1792\\1530300423.py:2: SettingWithCopyWarning: \n",
      "A value is trying to be set on a copy of a slice from a DataFrame\n",
      "\n",
      "See the caveats in the documentation: https://pandas.pydata.org/pandas-docs/stable/user_guide/indexing.html#returning-a-view-versus-a-copy\n",
      "  df['total'].loc[df['id'] == event.user_id] += 1\n",
      "C:\\Users\\bychk\\AppData\\Local\\Temp\\ipykernel_1792\\617297600.py:3: SettingWithCopyWarning: \n",
      "A value is trying to be set on a copy of a slice from a DataFrame\n",
      "\n",
      "See the caveats in the documentation: https://pandas.pydata.org/pandas-docs/stable/user_guide/indexing.html#returning-a-view-versus-a-copy\n",
      "  df['total'].loc[df['id'] == event.user_id] += 1\n"
     ]
    },
    {
     "ename": "ReadTimeout",
     "evalue": "HTTPSConnectionPool(host='im.vk.com', port=443): Read timed out. (read timeout=35)",
     "output_type": "error",
     "traceback": [
      "\u001b[1;31m---------------------------------------------------------------------------\u001b[0m",
      "\u001b[1;31mTimeoutError\u001b[0m                              Traceback (most recent call last)",
      "File \u001b[1;32m~\\AppData\\Local\\Packages\\PythonSoftwareFoundation.Python.3.10_qbz5n2kfra8p0\\LocalCache\\local-packages\\Python310\\site-packages\\urllib3\\connectionpool.py:536\u001b[0m, in \u001b[0;36mHTTPConnectionPool._make_request\u001b[1;34m(self, conn, method, url, body, headers, retries, timeout, chunked, response_conn, preload_content, decode_content, enforce_content_length)\u001b[0m\n\u001b[0;32m    535\u001b[0m \u001b[39mtry\u001b[39;00m:\n\u001b[1;32m--> 536\u001b[0m     response \u001b[39m=\u001b[39m conn\u001b[39m.\u001b[39;49mgetresponse()\n\u001b[0;32m    537\u001b[0m \u001b[39mexcept\u001b[39;00m (BaseSSLError, \u001b[39mOSError\u001b[39;00m) \u001b[39mas\u001b[39;00m e:\n",
      "File \u001b[1;32m~\\AppData\\Local\\Packages\\PythonSoftwareFoundation.Python.3.10_qbz5n2kfra8p0\\LocalCache\\local-packages\\Python310\\site-packages\\urllib3\\connection.py:461\u001b[0m, in \u001b[0;36mHTTPConnection.getresponse\u001b[1;34m(self)\u001b[0m\n\u001b[0;32m    460\u001b[0m \u001b[39m# Get the response from http.client.HTTPConnection\u001b[39;00m\n\u001b[1;32m--> 461\u001b[0m httplib_response \u001b[39m=\u001b[39m \u001b[39msuper\u001b[39;49m()\u001b[39m.\u001b[39;49mgetresponse()\n\u001b[0;32m    463\u001b[0m \u001b[39mtry\u001b[39;00m:\n",
      "File \u001b[1;32mC:\\Program Files\\WindowsApps\\PythonSoftwareFoundation.Python.3.10_3.10.3056.0_x64__qbz5n2kfra8p0\\lib\\http\\client.py:1375\u001b[0m, in \u001b[0;36mHTTPConnection.getresponse\u001b[1;34m(self)\u001b[0m\n\u001b[0;32m   1374\u001b[0m \u001b[39mtry\u001b[39;00m:\n\u001b[1;32m-> 1375\u001b[0m     response\u001b[39m.\u001b[39;49mbegin()\n\u001b[0;32m   1376\u001b[0m \u001b[39mexcept\u001b[39;00m \u001b[39mConnectionError\u001b[39;00m:\n",
      "File \u001b[1;32mC:\\Program Files\\WindowsApps\\PythonSoftwareFoundation.Python.3.10_3.10.3056.0_x64__qbz5n2kfra8p0\\lib\\http\\client.py:318\u001b[0m, in \u001b[0;36mHTTPResponse.begin\u001b[1;34m(self)\u001b[0m\n\u001b[0;32m    317\u001b[0m \u001b[39mwhile\u001b[39;00m \u001b[39mTrue\u001b[39;00m:\n\u001b[1;32m--> 318\u001b[0m     version, status, reason \u001b[39m=\u001b[39m \u001b[39mself\u001b[39;49m\u001b[39m.\u001b[39;49m_read_status()\n\u001b[0;32m    319\u001b[0m     \u001b[39mif\u001b[39;00m status \u001b[39m!=\u001b[39m CONTINUE:\n",
      "File \u001b[1;32mC:\\Program Files\\WindowsApps\\PythonSoftwareFoundation.Python.3.10_3.10.3056.0_x64__qbz5n2kfra8p0\\lib\\http\\client.py:279\u001b[0m, in \u001b[0;36mHTTPResponse._read_status\u001b[1;34m(self)\u001b[0m\n\u001b[0;32m    278\u001b[0m \u001b[39mdef\u001b[39;00m \u001b[39m_read_status\u001b[39m(\u001b[39mself\u001b[39m):\n\u001b[1;32m--> 279\u001b[0m     line \u001b[39m=\u001b[39m \u001b[39mstr\u001b[39m(\u001b[39mself\u001b[39;49m\u001b[39m.\u001b[39;49mfp\u001b[39m.\u001b[39;49mreadline(_MAXLINE \u001b[39m+\u001b[39;49m \u001b[39m1\u001b[39;49m), \u001b[39m\"\u001b[39m\u001b[39miso-8859-1\u001b[39m\u001b[39m\"\u001b[39m)\n\u001b[0;32m    280\u001b[0m     \u001b[39mif\u001b[39;00m \u001b[39mlen\u001b[39m(line) \u001b[39m>\u001b[39m _MAXLINE:\n",
      "File \u001b[1;32mC:\\Program Files\\WindowsApps\\PythonSoftwareFoundation.Python.3.10_3.10.3056.0_x64__qbz5n2kfra8p0\\lib\\socket.py:705\u001b[0m, in \u001b[0;36mSocketIO.readinto\u001b[1;34m(self, b)\u001b[0m\n\u001b[0;32m    704\u001b[0m \u001b[39mtry\u001b[39;00m:\n\u001b[1;32m--> 705\u001b[0m     \u001b[39mreturn\u001b[39;00m \u001b[39mself\u001b[39;49m\u001b[39m.\u001b[39;49m_sock\u001b[39m.\u001b[39;49mrecv_into(b)\n\u001b[0;32m    706\u001b[0m \u001b[39mexcept\u001b[39;00m timeout:\n",
      "File \u001b[1;32mC:\\Program Files\\WindowsApps\\PythonSoftwareFoundation.Python.3.10_3.10.3056.0_x64__qbz5n2kfra8p0\\lib\\ssl.py:1274\u001b[0m, in \u001b[0;36mSSLSocket.recv_into\u001b[1;34m(self, buffer, nbytes, flags)\u001b[0m\n\u001b[0;32m   1271\u001b[0m         \u001b[39mraise\u001b[39;00m \u001b[39mValueError\u001b[39;00m(\n\u001b[0;32m   1272\u001b[0m           \u001b[39m\"\u001b[39m\u001b[39mnon-zero flags not allowed in calls to recv_into() on \u001b[39m\u001b[39m%s\u001b[39;00m\u001b[39m\"\u001b[39m \u001b[39m%\u001b[39m\n\u001b[0;32m   1273\u001b[0m           \u001b[39mself\u001b[39m\u001b[39m.\u001b[39m\u001b[39m__class__\u001b[39m)\n\u001b[1;32m-> 1274\u001b[0m     \u001b[39mreturn\u001b[39;00m \u001b[39mself\u001b[39;49m\u001b[39m.\u001b[39;49mread(nbytes, buffer)\n\u001b[0;32m   1275\u001b[0m \u001b[39melse\u001b[39;00m:\n",
      "File \u001b[1;32mC:\\Program Files\\WindowsApps\\PythonSoftwareFoundation.Python.3.10_3.10.3056.0_x64__qbz5n2kfra8p0\\lib\\ssl.py:1130\u001b[0m, in \u001b[0;36mSSLSocket.read\u001b[1;34m(self, len, buffer)\u001b[0m\n\u001b[0;32m   1129\u001b[0m \u001b[39mif\u001b[39;00m buffer \u001b[39mis\u001b[39;00m \u001b[39mnot\u001b[39;00m \u001b[39mNone\u001b[39;00m:\n\u001b[1;32m-> 1130\u001b[0m     \u001b[39mreturn\u001b[39;00m \u001b[39mself\u001b[39;49m\u001b[39m.\u001b[39;49m_sslobj\u001b[39m.\u001b[39;49mread(\u001b[39mlen\u001b[39;49m, buffer)\n\u001b[0;32m   1131\u001b[0m \u001b[39melse\u001b[39;00m:\n",
      "\u001b[1;31mTimeoutError\u001b[0m: The read operation timed out",
      "\nThe above exception was the direct cause of the following exception:\n",
      "\u001b[1;31mReadTimeoutError\u001b[0m                          Traceback (most recent call last)",
      "File \u001b[1;32m~\\AppData\\Local\\Packages\\PythonSoftwareFoundation.Python.3.10_qbz5n2kfra8p0\\LocalCache\\local-packages\\Python310\\site-packages\\requests\\adapters.py:486\u001b[0m, in \u001b[0;36mHTTPAdapter.send\u001b[1;34m(self, request, stream, timeout, verify, cert, proxies)\u001b[0m\n\u001b[0;32m    485\u001b[0m \u001b[39mtry\u001b[39;00m:\n\u001b[1;32m--> 486\u001b[0m     resp \u001b[39m=\u001b[39m conn\u001b[39m.\u001b[39;49murlopen(\n\u001b[0;32m    487\u001b[0m         method\u001b[39m=\u001b[39;49mrequest\u001b[39m.\u001b[39;49mmethod,\n\u001b[0;32m    488\u001b[0m         url\u001b[39m=\u001b[39;49murl,\n\u001b[0;32m    489\u001b[0m         body\u001b[39m=\u001b[39;49mrequest\u001b[39m.\u001b[39;49mbody,\n\u001b[0;32m    490\u001b[0m         headers\u001b[39m=\u001b[39;49mrequest\u001b[39m.\u001b[39;49mheaders,\n\u001b[0;32m    491\u001b[0m         redirect\u001b[39m=\u001b[39;49m\u001b[39mFalse\u001b[39;49;00m,\n\u001b[0;32m    492\u001b[0m         assert_same_host\u001b[39m=\u001b[39;49m\u001b[39mFalse\u001b[39;49;00m,\n\u001b[0;32m    493\u001b[0m         preload_content\u001b[39m=\u001b[39;49m\u001b[39mFalse\u001b[39;49;00m,\n\u001b[0;32m    494\u001b[0m         decode_content\u001b[39m=\u001b[39;49m\u001b[39mFalse\u001b[39;49;00m,\n\u001b[0;32m    495\u001b[0m         retries\u001b[39m=\u001b[39;49m\u001b[39mself\u001b[39;49m\u001b[39m.\u001b[39;49mmax_retries,\n\u001b[0;32m    496\u001b[0m         timeout\u001b[39m=\u001b[39;49mtimeout,\n\u001b[0;32m    497\u001b[0m         chunked\u001b[39m=\u001b[39;49mchunked,\n\u001b[0;32m    498\u001b[0m     )\n\u001b[0;32m    500\u001b[0m \u001b[39mexcept\u001b[39;00m (ProtocolError, \u001b[39mOSError\u001b[39;00m) \u001b[39mas\u001b[39;00m err:\n",
      "File \u001b[1;32m~\\AppData\\Local\\Packages\\PythonSoftwareFoundation.Python.3.10_qbz5n2kfra8p0\\LocalCache\\local-packages\\Python310\\site-packages\\urllib3\\connectionpool.py:844\u001b[0m, in \u001b[0;36mHTTPConnectionPool.urlopen\u001b[1;34m(self, method, url, body, headers, retries, redirect, assert_same_host, timeout, pool_timeout, release_conn, chunked, body_pos, preload_content, decode_content, **response_kw)\u001b[0m\n\u001b[0;32m    842\u001b[0m     new_e \u001b[39m=\u001b[39m ProtocolError(\u001b[39m\"\u001b[39m\u001b[39mConnection aborted.\u001b[39m\u001b[39m\"\u001b[39m, new_e)\n\u001b[1;32m--> 844\u001b[0m retries \u001b[39m=\u001b[39m retries\u001b[39m.\u001b[39;49mincrement(\n\u001b[0;32m    845\u001b[0m     method, url, error\u001b[39m=\u001b[39;49mnew_e, _pool\u001b[39m=\u001b[39;49m\u001b[39mself\u001b[39;49m, _stacktrace\u001b[39m=\u001b[39;49msys\u001b[39m.\u001b[39;49mexc_info()[\u001b[39m2\u001b[39;49m]\n\u001b[0;32m    846\u001b[0m )\n\u001b[0;32m    847\u001b[0m retries\u001b[39m.\u001b[39msleep()\n",
      "File \u001b[1;32m~\\AppData\\Local\\Packages\\PythonSoftwareFoundation.Python.3.10_qbz5n2kfra8p0\\LocalCache\\local-packages\\Python310\\site-packages\\urllib3\\util\\retry.py:470\u001b[0m, in \u001b[0;36mRetry.increment\u001b[1;34m(self, method, url, response, error, _pool, _stacktrace)\u001b[0m\n\u001b[0;32m    469\u001b[0m \u001b[39mif\u001b[39;00m read \u001b[39mis\u001b[39;00m \u001b[39mFalse\u001b[39;00m \u001b[39mor\u001b[39;00m method \u001b[39mis\u001b[39;00m \u001b[39mNone\u001b[39;00m \u001b[39mor\u001b[39;00m \u001b[39mnot\u001b[39;00m \u001b[39mself\u001b[39m\u001b[39m.\u001b[39m_is_method_retryable(method):\n\u001b[1;32m--> 470\u001b[0m     \u001b[39mraise\u001b[39;00m reraise(\u001b[39mtype\u001b[39;49m(error), error, _stacktrace)\n\u001b[0;32m    471\u001b[0m \u001b[39melif\u001b[39;00m read \u001b[39mis\u001b[39;00m \u001b[39mnot\u001b[39;00m \u001b[39mNone\u001b[39;00m:\n",
      "File \u001b[1;32m~\\AppData\\Local\\Packages\\PythonSoftwareFoundation.Python.3.10_qbz5n2kfra8p0\\LocalCache\\local-packages\\Python310\\site-packages\\urllib3\\util\\util.py:39\u001b[0m, in \u001b[0;36mreraise\u001b[1;34m(tp, value, tb)\u001b[0m\n\u001b[0;32m     38\u001b[0m         \u001b[39mraise\u001b[39;00m value\u001b[39m.\u001b[39mwith_traceback(tb)\n\u001b[1;32m---> 39\u001b[0m     \u001b[39mraise\u001b[39;00m value\n\u001b[0;32m     40\u001b[0m \u001b[39mfinally\u001b[39;00m:\n",
      "File \u001b[1;32m~\\AppData\\Local\\Packages\\PythonSoftwareFoundation.Python.3.10_qbz5n2kfra8p0\\LocalCache\\local-packages\\Python310\\site-packages\\urllib3\\connectionpool.py:790\u001b[0m, in \u001b[0;36mHTTPConnectionPool.urlopen\u001b[1;34m(self, method, url, body, headers, retries, redirect, assert_same_host, timeout, pool_timeout, release_conn, chunked, body_pos, preload_content, decode_content, **response_kw)\u001b[0m\n\u001b[0;32m    789\u001b[0m \u001b[39m# Make the request on the HTTPConnection object\u001b[39;00m\n\u001b[1;32m--> 790\u001b[0m response \u001b[39m=\u001b[39m \u001b[39mself\u001b[39m\u001b[39m.\u001b[39m_make_request(\n\u001b[0;32m    791\u001b[0m     conn,\n\u001b[0;32m    792\u001b[0m     method,\n\u001b[0;32m    793\u001b[0m     url,\n\u001b[0;32m    794\u001b[0m     timeout\u001b[39m=\u001b[39mtimeout_obj,\n\u001b[0;32m    795\u001b[0m     body\u001b[39m=\u001b[39mbody,\n\u001b[0;32m    796\u001b[0m     headers\u001b[39m=\u001b[39mheaders,\n\u001b[0;32m    797\u001b[0m     chunked\u001b[39m=\u001b[39mchunked,\n\u001b[0;32m    798\u001b[0m     retries\u001b[39m=\u001b[39mretries,\n\u001b[0;32m    799\u001b[0m     response_conn\u001b[39m=\u001b[39mresponse_conn,\n\u001b[0;32m    800\u001b[0m     preload_content\u001b[39m=\u001b[39mpreload_content,\n\u001b[0;32m    801\u001b[0m     decode_content\u001b[39m=\u001b[39mdecode_content,\n\u001b[0;32m    802\u001b[0m     \u001b[39m*\u001b[39m\u001b[39m*\u001b[39mresponse_kw,\n\u001b[0;32m    803\u001b[0m )\n\u001b[0;32m    805\u001b[0m \u001b[39m# Everything went great!\u001b[39;00m\n",
      "File \u001b[1;32m~\\AppData\\Local\\Packages\\PythonSoftwareFoundation.Python.3.10_qbz5n2kfra8p0\\LocalCache\\local-packages\\Python310\\site-packages\\urllib3\\connectionpool.py:538\u001b[0m, in \u001b[0;36mHTTPConnectionPool._make_request\u001b[1;34m(self, conn, method, url, body, headers, retries, timeout, chunked, response_conn, preload_content, decode_content, enforce_content_length)\u001b[0m\n\u001b[0;32m    537\u001b[0m \u001b[39mexcept\u001b[39;00m (BaseSSLError, \u001b[39mOSError\u001b[39;00m) \u001b[39mas\u001b[39;00m e:\n\u001b[1;32m--> 538\u001b[0m     \u001b[39mself\u001b[39;49m\u001b[39m.\u001b[39;49m_raise_timeout(err\u001b[39m=\u001b[39;49me, url\u001b[39m=\u001b[39;49murl, timeout_value\u001b[39m=\u001b[39;49mread_timeout)\n\u001b[0;32m    539\u001b[0m     \u001b[39mraise\u001b[39;00m\n",
      "File \u001b[1;32m~\\AppData\\Local\\Packages\\PythonSoftwareFoundation.Python.3.10_qbz5n2kfra8p0\\LocalCache\\local-packages\\Python310\\site-packages\\urllib3\\connectionpool.py:370\u001b[0m, in \u001b[0;36mHTTPConnectionPool._raise_timeout\u001b[1;34m(self, err, url, timeout_value)\u001b[0m\n\u001b[0;32m    369\u001b[0m \u001b[39mif\u001b[39;00m \u001b[39misinstance\u001b[39m(err, SocketTimeout):\n\u001b[1;32m--> 370\u001b[0m     \u001b[39mraise\u001b[39;00m ReadTimeoutError(\n\u001b[0;32m    371\u001b[0m         \u001b[39mself\u001b[39m, url, \u001b[39mf\u001b[39m\u001b[39m\"\u001b[39m\u001b[39mRead timed out. (read timeout=\u001b[39m\u001b[39m{\u001b[39;00mtimeout_value\u001b[39m}\u001b[39;00m\u001b[39m)\u001b[39m\u001b[39m\"\u001b[39m\n\u001b[0;32m    372\u001b[0m     ) \u001b[39mfrom\u001b[39;00m \u001b[39merr\u001b[39;00m\n\u001b[0;32m    374\u001b[0m \u001b[39m# See the above comment about EAGAIN in Python 3.\u001b[39;00m\n",
      "\u001b[1;31mReadTimeoutError\u001b[0m: HTTPSConnectionPool(host='im.vk.com', port=443): Read timed out. (read timeout=35)",
      "\nDuring handling of the above exception, another exception occurred:\n",
      "\u001b[1;31mReadTimeout\u001b[0m                               Traceback (most recent call last)",
      "Cell \u001b[1;32mIn[31], line 1\u001b[0m\n\u001b[1;32m----> 1\u001b[0m \u001b[39mfor\u001b[39;00m event \u001b[39min\u001b[39;00m longpoll\u001b[39m.\u001b[39mlisten():\n\u001b[0;32m      2\u001b[0m     \u001b[39mif\u001b[39;00m event\u001b[39m.\u001b[39mtype \u001b[39m==\u001b[39m VkEventType\u001b[39m.\u001b[39mMESSAGE_NEW \u001b[39mand\u001b[39;00m event\u001b[39m.\u001b[39mto_me:\n\u001b[0;32m      3\u001b[0m         \u001b[39m#chat start\u001b[39;00m\n\u001b[0;32m      4\u001b[0m         \u001b[39mif\u001b[39;00m event\u001b[39m.\u001b[39mtext \u001b[39m==\u001b[39m TITLE_START:\n",
      "File \u001b[1;32m~\\AppData\\Local\\Packages\\PythonSoftwareFoundation.Python.3.10_qbz5n2kfra8p0\\LocalCache\\local-packages\\Python310\\site-packages\\vk_api\\longpoll.py:619\u001b[0m, in \u001b[0;36mVkLongPoll.listen\u001b[1;34m(self)\u001b[0m\n\u001b[0;32m    613\u001b[0m \u001b[39m\u001b[39m\u001b[39m\"\"\" Слушать сервер\u001b[39;00m\n\u001b[0;32m    614\u001b[0m \n\u001b[0;32m    615\u001b[0m \u001b[39m:yields: :class:`Event`\u001b[39;00m\n\u001b[0;32m    616\u001b[0m \u001b[39m\"\"\"\u001b[39;00m\n\u001b[0;32m    618\u001b[0m \u001b[39mwhile\u001b[39;00m \u001b[39mTrue\u001b[39;00m:\n\u001b[1;32m--> 619\u001b[0m     \u001b[39mfor\u001b[39;00m event \u001b[39min\u001b[39;00m \u001b[39mself\u001b[39;49m\u001b[39m.\u001b[39;49mcheck():\n\u001b[0;32m    620\u001b[0m         \u001b[39myield\u001b[39;00m event\n",
      "File \u001b[1;32m~\\AppData\\Local\\Packages\\PythonSoftwareFoundation.Python.3.10_qbz5n2kfra8p0\\LocalCache\\local-packages\\Python310\\site-packages\\vk_api\\longpoll.py:555\u001b[0m, in \u001b[0;36mVkLongPoll.check\u001b[1;34m(self)\u001b[0m\n\u001b[0;32m    542\u001b[0m \u001b[39m\u001b[39m\u001b[39m\"\"\" Получить события от сервера один раз\u001b[39;00m\n\u001b[0;32m    543\u001b[0m \n\u001b[0;32m    544\u001b[0m \u001b[39m:returns: `list` of :class:`Event`\u001b[39;00m\n\u001b[0;32m    545\u001b[0m \u001b[39m\"\"\"\u001b[39;00m\n\u001b[0;32m    546\u001b[0m values \u001b[39m=\u001b[39m {\n\u001b[0;32m    547\u001b[0m     \u001b[39m'\u001b[39m\u001b[39mact\u001b[39m\u001b[39m'\u001b[39m: \u001b[39m'\u001b[39m\u001b[39ma_check\u001b[39m\u001b[39m'\u001b[39m,\n\u001b[0;32m    548\u001b[0m     \u001b[39m'\u001b[39m\u001b[39mkey\u001b[39m\u001b[39m'\u001b[39m: \u001b[39mself\u001b[39m\u001b[39m.\u001b[39mkey,\n\u001b[1;32m   (...)\u001b[0m\n\u001b[0;32m    552\u001b[0m     \u001b[39m'\u001b[39m\u001b[39mversion\u001b[39m\u001b[39m'\u001b[39m: \u001b[39m3\u001b[39m\n\u001b[0;32m    553\u001b[0m }\n\u001b[1;32m--> 555\u001b[0m response \u001b[39m=\u001b[39m \u001b[39mself\u001b[39;49m\u001b[39m.\u001b[39;49msession\u001b[39m.\u001b[39;49mget(\n\u001b[0;32m    556\u001b[0m     \u001b[39mself\u001b[39;49m\u001b[39m.\u001b[39;49murl,\n\u001b[0;32m    557\u001b[0m     params\u001b[39m=\u001b[39;49mvalues,\n\u001b[0;32m    558\u001b[0m     timeout\u001b[39m=\u001b[39;49m\u001b[39mself\u001b[39;49m\u001b[39m.\u001b[39;49mwait \u001b[39m+\u001b[39;49m \u001b[39m10\u001b[39;49m\n\u001b[0;32m    559\u001b[0m )\u001b[39m.\u001b[39mjson()\n\u001b[0;32m    561\u001b[0m \u001b[39mif\u001b[39;00m \u001b[39m'\u001b[39m\u001b[39mfailed\u001b[39m\u001b[39m'\u001b[39m \u001b[39mnot\u001b[39;00m \u001b[39min\u001b[39;00m response:\n\u001b[0;32m    562\u001b[0m     \u001b[39mself\u001b[39m\u001b[39m.\u001b[39mts \u001b[39m=\u001b[39m response[\u001b[39m'\u001b[39m\u001b[39mts\u001b[39m\u001b[39m'\u001b[39m]\n",
      "File \u001b[1;32m~\\AppData\\Local\\Packages\\PythonSoftwareFoundation.Python.3.10_qbz5n2kfra8p0\\LocalCache\\local-packages\\Python310\\site-packages\\requests\\sessions.py:602\u001b[0m, in \u001b[0;36mSession.get\u001b[1;34m(self, url, **kwargs)\u001b[0m\n\u001b[0;32m    594\u001b[0m \u001b[39m\u001b[39m\u001b[39mr\u001b[39m\u001b[39m\"\"\"Sends a GET request. Returns :class:`Response` object.\u001b[39;00m\n\u001b[0;32m    595\u001b[0m \n\u001b[0;32m    596\u001b[0m \u001b[39m:param url: URL for the new :class:`Request` object.\u001b[39;00m\n\u001b[0;32m    597\u001b[0m \u001b[39m:param \\*\\*kwargs: Optional arguments that ``request`` takes.\u001b[39;00m\n\u001b[0;32m    598\u001b[0m \u001b[39m:rtype: requests.Response\u001b[39;00m\n\u001b[0;32m    599\u001b[0m \u001b[39m\"\"\"\u001b[39;00m\n\u001b[0;32m    601\u001b[0m kwargs\u001b[39m.\u001b[39msetdefault(\u001b[39m\"\u001b[39m\u001b[39mallow_redirects\u001b[39m\u001b[39m\"\u001b[39m, \u001b[39mTrue\u001b[39;00m)\n\u001b[1;32m--> 602\u001b[0m \u001b[39mreturn\u001b[39;00m \u001b[39mself\u001b[39m\u001b[39m.\u001b[39mrequest(\u001b[39m\"\u001b[39m\u001b[39mGET\u001b[39m\u001b[39m\"\u001b[39m, url, \u001b[39m*\u001b[39m\u001b[39m*\u001b[39mkwargs)\n",
      "File \u001b[1;32m~\\AppData\\Local\\Packages\\PythonSoftwareFoundation.Python.3.10_qbz5n2kfra8p0\\LocalCache\\local-packages\\Python310\\site-packages\\requests\\sessions.py:589\u001b[0m, in \u001b[0;36mSession.request\u001b[1;34m(self, method, url, params, data, headers, cookies, files, auth, timeout, allow_redirects, proxies, hooks, stream, verify, cert, json)\u001b[0m\n\u001b[0;32m    584\u001b[0m send_kwargs \u001b[39m=\u001b[39m {\n\u001b[0;32m    585\u001b[0m     \u001b[39m\"\u001b[39m\u001b[39mtimeout\u001b[39m\u001b[39m\"\u001b[39m: timeout,\n\u001b[0;32m    586\u001b[0m     \u001b[39m\"\u001b[39m\u001b[39mallow_redirects\u001b[39m\u001b[39m\"\u001b[39m: allow_redirects,\n\u001b[0;32m    587\u001b[0m }\n\u001b[0;32m    588\u001b[0m send_kwargs\u001b[39m.\u001b[39mupdate(settings)\n\u001b[1;32m--> 589\u001b[0m resp \u001b[39m=\u001b[39m \u001b[39mself\u001b[39m\u001b[39m.\u001b[39msend(prep, \u001b[39m*\u001b[39m\u001b[39m*\u001b[39msend_kwargs)\n\u001b[0;32m    591\u001b[0m \u001b[39mreturn\u001b[39;00m resp\n",
      "File \u001b[1;32m~\\AppData\\Local\\Packages\\PythonSoftwareFoundation.Python.3.10_qbz5n2kfra8p0\\LocalCache\\local-packages\\Python310\\site-packages\\requests\\sessions.py:703\u001b[0m, in \u001b[0;36mSession.send\u001b[1;34m(self, request, **kwargs)\u001b[0m\n\u001b[0;32m    700\u001b[0m start \u001b[39m=\u001b[39m preferred_clock()\n\u001b[0;32m    702\u001b[0m \u001b[39m# Send the request\u001b[39;00m\n\u001b[1;32m--> 703\u001b[0m r \u001b[39m=\u001b[39m adapter\u001b[39m.\u001b[39msend(request, \u001b[39m*\u001b[39m\u001b[39m*\u001b[39mkwargs)\n\u001b[0;32m    705\u001b[0m \u001b[39m# Total elapsed time of the request (approximately)\u001b[39;00m\n\u001b[0;32m    706\u001b[0m elapsed \u001b[39m=\u001b[39m preferred_clock() \u001b[39m-\u001b[39m start\n",
      "File \u001b[1;32m~\\AppData\\Local\\Packages\\PythonSoftwareFoundation.Python.3.10_qbz5n2kfra8p0\\LocalCache\\local-packages\\Python310\\site-packages\\requests\\adapters.py:532\u001b[0m, in \u001b[0;36mHTTPAdapter.send\u001b[1;34m(self, request, stream, timeout, verify, cert, proxies)\u001b[0m\n\u001b[0;32m    530\u001b[0m     \u001b[39mraise\u001b[39;00m SSLError(e, request\u001b[39m=\u001b[39mrequest)\n\u001b[0;32m    531\u001b[0m \u001b[39melif\u001b[39;00m \u001b[39misinstance\u001b[39m(e, ReadTimeoutError):\n\u001b[1;32m--> 532\u001b[0m     \u001b[39mraise\u001b[39;00m ReadTimeout(e, request\u001b[39m=\u001b[39mrequest)\n\u001b[0;32m    533\u001b[0m \u001b[39melif\u001b[39;00m \u001b[39misinstance\u001b[39m(e, _InvalidHeader):\n\u001b[0;32m    534\u001b[0m     \u001b[39mraise\u001b[39;00m InvalidHeader(e, request\u001b[39m=\u001b[39mrequest)\n",
      "\u001b[1;31mReadTimeout\u001b[0m: HTTPSConnectionPool(host='im.vk.com', port=443): Read timed out. (read timeout=35)"
     ]
    }
   ],
   "source": [
    "\n",
    "for event in longpoll.listen():\n",
    "    if event.type == VkEventType.MESSAGE_NEW and event.to_me:\n",
    "        #chat start\n",
    "        if event.text == TITLE_START:\n",
    "            logger.info(f'button start,start,{event.user_id}')\n",
    "            if  event.user_id in df['id'].values:\n",
    "                start(event, vk)\n",
    "            else:\n",
    "                greeting(event, vk)\n",
    "        #user name\n",
    "        if event.text.lower().startswith(CONTEXT_USER_NAME):\n",
    "            if event.user_id in df['id'].values:\n",
    "                df['name'].loc[df['id'] == event.user_id] = get_user_name(event.text)\n",
    "                logger.info(f'user changed name,contact info,{event.user_id}')\n",
    "                first_start(event, vk)\n",
    "            else:\n",
    "                df.loc[len(df.index)] = [event.user_id,  get_user_name(event.text), 0, 0, False]\n",
    "                logger.info(f'new user,contact info,{event.user_id}')\n",
    "                enter_course(event, vk)\n",
    "        #course info\n",
    "        if event.text.lower().startswith(CONTEXT_COURSE):\n",
    "            try:\n",
    "                if 1 <= int(get_course(event.text)) < 3:\n",
    "                    df['PE'].loc[df['id'] == event.user_id] = True\n",
    "                logger.info(f'PE flag,contact info,{event.user_id}')\n",
    "                first_start(event, vk)\n",
    "            except:\n",
    "                logger.error(f'incorrect course number,contact info,{event.user_id}')\n",
    "        #change info\n",
    "        if event.text == TITLE_CHANGE_INFO:\n",
    "            change_info(event, vk)\n",
    "        #menu: TEST\n",
    "        if event.text == TITLE_TESTS:\n",
    "            send_test_menu(event, vk)\n",
    "            logger.info(f'test,menu,{event.user_id}')\n",
    "        #menu: OTHER\n",
    "        if event.text == TITLE_OTHER:\n",
    "            other(event, vk)\n",
    "            logger.info(f'other,menu,{event.user_id}')\n",
    "        #choose topic\n",
    "        if event.text == TITLE_CHOOSE_TOPIC:\n",
    "            choose_topic(event, vk)  \n",
    "            logger.info(f'choose topic,menu,{event.user_id}')\n",
    "        #test: TERMS\n",
    "        if event.text == TITLE_TERMS:\n",
    "            logger.info(f'topic terms,test,{event.user_id}')\n",
    "            current_test = tests_term.sample(frac=1).reset_index(drop=True)\n",
    "            answer_keyboard = answer_keyboard_4\n",
    "            test_step(event, vk)\n",
    "        #test: FOULS\n",
    "        if event.text == TITLE_FOULS:\n",
    "            logger.info(f'topic fouls,test,{event.user_id}')\n",
    "            current_test = test_fouls.sample(frac=1).reset_index(drop=True)\n",
    "            answer_keyboard = answer_keyboard_2\n",
    "            test_step(event, vk)\n",
    "        #check answer\n",
    "        if is_testing:\n",
    "            if is_user_answer(event.text): \n",
    "                if right_answer == event.text:\n",
    "                    answer_is_right(vk, event)\n",
    "                    is_testing = False\n",
    "                else:\n",
    "                    answer_is_wrong(vk, event)\n",
    "                    is_testing = False\n",
    "            elif event.text != TITLE_FOULS and event.text != TITLE_TERMS:\n",
    "                logger.warning(f'incorrect answer,test,{event.user_id}')\n",
    "        #next question\n",
    "        if event.text == TITLE_NEXT:\n",
    "            test_step(event, vk)\n",
    "        #stop questions\n",
    "        if event.text == TITLE_STOP:\n",
    "            logger.info(f'session interrupted,test,{event.user_id}')\n",
    "            is_last_question(vk, event)\n",
    "        #get statistics\n",
    "        if event.text == TITLE_STATS:\n",
    "            logger.info(f'statistics,statistics,{event.user_id}')\n",
    "            send_stats(vk, event)\n",
    "        #go back to menu\n",
    "        if event.text == TITLE_BACK_TO_MENU:\n",
    "            logger.info(f'back to main,menu,{event.user_id}')\n",
    "            start(event, vk)\n",
    "\n",
    "            \n",
    "            "
   ]
  }
 ],
 "metadata": {
  "kernelspec": {
   "display_name": "Python 3",
   "language": "python",
   "name": "python3"
  },
  "language_info": {
   "codemirror_mode": {
    "name": "ipython",
    "version": 3
   },
   "file_extension": ".py",
   "mimetype": "text/x-python",
   "name": "python",
   "nbconvert_exporter": "python",
   "pygments_lexer": "ipython3",
   "version": "3.10.11"
  },
  "orig_nbformat": 4
 },
 "nbformat": 4,
 "nbformat_minor": 2
}
